{
  "nbformat": 4,
  "nbformat_minor": 0,
  "metadata": {
    "colab": {
      "provenance": [],
      "authorship_tag": "ABX9TyMWm7QJh0G+yhW39zMfh1IK",
      "include_colab_link": true
    },
    "kernelspec": {
      "name": "python3",
      "display_name": "Python 3"
    },
    "language_info": {
      "name": "python"
    }
  },
  "cells": [
    {
      "cell_type": "markdown",
      "metadata": {
        "id": "view-in-github",
        "colab_type": "text"
      },
      "source": [
        "<a href=\"https://colab.research.google.com/github/shreynavadia/Randomized-Automated-Email-Sender/blob/main/Emailer.ipynb\" target=\"_parent\"><img src=\"https://colab.research.google.com/assets/colab-badge.svg\" alt=\"Open In Colab\"/></a>"
      ]
    },
    {
      "cell_type": "code",
      "source": [
        "pip install schedule"
      ],
      "metadata": {
        "colab": {
          "base_uri": "https://localhost:8080/"
        },
        "id": "uKCruBHXch_n",
        "outputId": "a7a75a17-3e9b-4203-fa8c-2042b2c3ab7c"
      },
      "execution_count": null,
      "outputs": [
        {
          "output_type": "stream",
          "name": "stdout",
          "text": [
            "Collecting schedule\n",
            "  Downloading schedule-1.2.2-py3-none-any.whl.metadata (3.8 kB)\n",
            "Downloading schedule-1.2.2-py3-none-any.whl (12 kB)\n",
            "Installing collected packages: schedule\n",
            "Successfully installed schedule-1.2.2\n"
          ]
        }
      ]
    },
    {
      "cell_type": "code",
      "source": [
        "import smtplib\n",
        "import pandas as pd\n",
        "from email.mime.multipart import MIMEMultipart\n",
        "from email.mime.text import MIMEText\n",
        "import random\n",
        "import time\n",
        "from datetime import datetime\n",
        "\n",
        "SENDER_EMAIL = \"navadiashrey@gmail.com\"\n",
        "SENDER_PASSWORD = \"App specific password reference, do not store the actual password over here\"\n",
        "\n",
        "def read_csv(file_path):\n",
        "    return pd.read_csv(file_path)\n",
        "\n",
        "def send_email(to_email, subject, body, to_name):\n",
        "    try:\n",
        "        msg = MIMEMultipart()\n",
        "        msg['From'] = SENDER_EMAIL\n",
        "        msg['To'] = to_email\n",
        "        msg['Subject'] = subject\n",
        "\n",
        "        personalized_body = f\"Hello {to_name},\\n\\n\" + body\n",
        "        msg.attach(MIMEText(personalized_body, 'plain'))\n",
        "        server = smtplib.SMTP('smtp.gmail.com', 587)\n",
        "        server.starttls()\n",
        "        server.login(SENDER_EMAIL, SENDER_PASSWORD)\n",
        "        server.sendmail(SENDER_EMAIL, to_email, msg.as_string())\n",
        "        server.quit()\n",
        "\n",
        "        print(f\"Email sent to {to_email} at {datetime.now()}\")\n",
        "    except Exception as e:\n",
        "        print(f\"Failed to send email to {to_email}. Error: {str(e)}\")\n",
        "\n",
        "def send_emails_immediately(file_path):\n",
        "    df = read_csv(file_path)\n",
        "    df = df.sample(frac=1).reset_index(drop=True)\n",
        "\n",
        "    for index, row in df.iterrows():\n",
        "        name = row['name']\n",
        "        email = row['email']\n",
        "        subject = row['subject']\n",
        "        message = row['message']\n",
        "        send_email(email, subject, message, name)\n",
        "if __name__ == \"__main__\":\n",
        "    send_emails_immediately(\"email_list.csv\")\n"
      ],
      "metadata": {
        "colab": {
          "base_uri": "https://localhost:8080/"
        },
        "id": "aBEtdh7edc1W",
        "outputId": "5711aac2-f28d-4e80-e673-3feeabd4216b"
      },
      "execution_count": null,
      "outputs": [
        {
          "output_type": "stream",
          "name": "stdout",
          "text": [
            "Email sent to patilsamruddhi99@gmail.com at 2024-09-24 00:45:29.950304\n"
          ]
        }
      ]
    }
  ]
}